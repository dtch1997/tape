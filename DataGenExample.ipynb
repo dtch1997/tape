{
 "cells": [
  {
   "cell_type": "code",
   "execution_count": 26,
   "metadata": {},
   "outputs": [
    {
     "name": "stdout",
     "output_type": "stream",
     "text": [
      "The autoreload extension is already loaded. To reload it, use:\n",
      "  %reload_ext autoreload\n"
     ]
    }
   ],
   "source": [
    "%load_ext autoreload\n",
    "%autoreload 2\n",
    "from tape.hpn_models.load_data import DataGenerator"
   ]
  },
  {
   "cell_type": "code",
   "execution_count": 27,
   "metadata": {},
   "outputs": [],
   "source": [
    "dg = DataGenerator(5,5)"
   ]
  },
  {
   "cell_type": "code",
   "execution_count": 29,
   "metadata": {},
   "outputs": [],
   "source": [
    "stuff = dg.sample_batch('meta_train')"
   ]
  },
  {
   "cell_type": "code",
   "execution_count": 30,
   "metadata": {},
   "outputs": [
    {
     "data": {
      "text/plain": [
       "({'id': <tf.Tensor 'IteratorGetNext_2:4' shape=(?,) dtype=string>,\n",
       "  'primary': <tf.Tensor 'IteratorGetNext_2:5' shape=(?, ?) dtype=int32>,\n",
       "  'protein_length': <tf.Tensor 'IteratorGetNext_2:6' shape=(?,) dtype=int32>,\n",
       "  'class_label': <tf.Tensor 'IteratorGetNext_2:0' shape=(?,) dtype=int32>,\n",
       "  'fold_label': <tf.Tensor 'IteratorGetNext_2:3' shape=(?,) dtype=int32>,\n",
       "  'superfamily_label': <tf.Tensor 'IteratorGetNext_2:9' shape=(?,) dtype=int32>,\n",
       "  'family_label': <tf.Tensor 'IteratorGetNext_2:2' shape=(?,) dtype=int32>,\n",
       "  'secondary_structure': <tf.Tensor 'IteratorGetNext_2:7' shape=(?, ?, 3) dtype=float32>,\n",
       "  'solvent_accessibility': <tf.Tensor 'IteratorGetNext_2:8' shape=(?, ?, 2) dtype=float32>,\n",
       "  'evolutionary': <tf.Tensor 'IteratorGetNext_2:1' shape=(?, ?, 20) dtype=float32>},\n",
       " {'primary': <tf.Tensor 'IteratorGetNext_3:2' shape=(?, ?) dtype=int32>,\n",
       "  'protein_length': <tf.Tensor 'IteratorGetNext_3:3' shape=(?,) dtype=int32>,\n",
       "  'clan': <tf.Tensor 'IteratorGetNext_3:0' shape=(?,) dtype=int32>,\n",
       "  'family': <tf.Tensor 'IteratorGetNext_3:1' shape=(?,) dtype=int32>})"
      ]
     },
     "execution_count": 30,
     "metadata": {},
     "output_type": "execute_result"
    }
   ],
   "source": [
    "stuff"
   ]
  }
 ],
 "metadata": {
  "kernelspec": {
   "display_name": "Python [conda env:metalearn]",
   "language": "python",
   "name": "conda-env-metalearn-py"
  },
  "language_info": {
   "codemirror_mode": {
    "name": "ipython",
    "version": 3
   },
   "file_extension": ".py",
   "mimetype": "text/x-python",
   "name": "python",
   "nbconvert_exporter": "python",
   "pygments_lexer": "ipython3",
   "version": "3.7.4"
  }
 },
 "nbformat": 4,
 "nbformat_minor": 4
}
